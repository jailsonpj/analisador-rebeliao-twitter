{
 "cells": [
  {
   "cell_type": "code",
   "execution_count": 2,
   "metadata": {},
   "outputs": [
    {
     "name": "stdout",
     "output_type": "stream",
     "text": [
      ">> Buscar: adele\n",
      "1) \n",
      "      O melhor do YouTube\n",
      "    \n",
      "2) Fila de exibição\n",
      "3) Fila\n",
      "4) Mix - Adele - Playlist\n",
      "5) Adele - Send My Love (To Your New Lover) - Duração: 3:46.\n",
      "6) Adele - Hello - Duração: 6:07.\n",
      "7) Adele - Someone Like You - Duração: 4:45.\n",
      "8) AdeleVEVO - Canal\n",
      "9) Adele - Rolling in the Deep - Duração: 3:54.\n",
      "10) Adele - When We Were Young (Live at The Church Studios) - Duração: 5:43.\n",
      "11) Adele - Skyfall (Lyric Video) - Duração: 4:50.\n",
      "12) Adele - One and Only (legendado) - Duração: 5:48.\n",
      "13) The Best of Adele - Adele Greatest Hits (FULL ALBUM) - Duração: 1:05:12.\n",
      "14) Adele - Canal\n",
      "15) Faixas principais - Adele - Playlist\n",
      "16) Adele  LIVE Full Concert 2018 - Duração: 1:45:33.\n",
      "17) Adele - Set Fire To The Rain (Live at The Royal Albert Hall) - Duração: 3:59.\n",
      "18) Adele - Water Under the Bridge [Lyrics Music Video] - Duração: 4:20.\n",
      "19) Adele - Chasing Pavements - Duração: 3:41.\n",
      "20) As melhores de Adele - Playlist\n",
      "21) Carona do karaokê com Adele - Duração: 14:52.\n",
      "22) Adele Greatest Hits Cover - The Best Songs Of Adele Playlist 2017 - Duração: 2:15:01.\n",
      "23) Pesquisas relacionadas a adele\n",
      "24) someone like you, Rolling in the deep - Adele   Live at the Royal Albert Hall - Duração: 12:53.\n",
      "25) Artistas relacionados\n",
      "26) \n",
      "Adicionar a\n",
      "    \n"
     ]
    },
    {
     "name": "stderr",
     "output_type": "stream",
     "text": [
      "/home/jailson/anaconda3/lib/python3.6/site-packages/bs4/__init__.py:181: UserWarning: No parser was explicitly specified, so I'm using the best available HTML parser for this system (\"lxml\"). This usually isn't a problem, but if you run this code on another system, or in a different virtual environment, it may use a different parser and behave differently.\n",
      "\n",
      "The code that caused this warning is on line 193 of the file /home/jailson/anaconda3/lib/python3.6/runpy.py. To get rid of this warning, change code that looks like this:\n",
      "\n",
      " BeautifulSoup(YOUR_MARKUP})\n",
      "\n",
      "to this:\n",
      "\n",
      " BeautifulSoup(YOUR_MARKUP, \"lxml\")\n",
      "\n",
      "  markup_type=markup_type))\n"
     ]
    }
   ],
   "source": [
    "from bs4 import BeautifulSoup\n",
    "import requests\n",
    "url = 'http://www.youtube.com/results?search_query=%(q)s'\n",
    "busca = {\n",
    "    'q': input('>> Buscar: '),\n",
    "}\n",
    "r = requests.get(url % busca)\n",
    "soup = BeautifulSoup(r.text)\n",
    "titulo = [title.text for title in soup.findAll('h3')]\n",
    "i = 0\n",
    "for t in titulo:\n",
    " i+=1\n",
    " print (str(i)+')',t)"
   ]
  },
  {
   "cell_type": "code",
   "execution_count": 8,
   "metadata": {},
   "outputs": [],
   "source": [
    "from bs4 import BeautifulSoup\n",
    "import requests\n",
    "import sys\n",
    "def buscar_links(url):\n",
    "    if 'http' not in url:\n",
    "        url = 'http://'+url\n",
    "    lista = []\n",
    "    i = 0\n",
    "    r = requests.get(url)\n",
    "    soup = BeautifulSoup(r.text)\n",
    "    for a in soup.findAll('a',href=True):\n",
    "        link = a['href']\n",
    "        i += 1\n",
    "        lista.append(link)\n",
    "        links = str(link).strip('[]').replace(\"u\", \"\").replace(\"'\", \"\")\n",
    "        print (str(i) + \") \" + str(links))\n",
    "    print (\"\\n>> Total = %d \\n\" % i)\n",
    "    sys.exit()\n",
    "\n",
    "for arg in sys.argv:\n",
    "    if(arg == \"-l\"):\n",
    "       url = input('url: ')\n",
    "       buscar_links(url)"
   ]
  },
  {
   "cell_type": "code",
   "execution_count": 11,
   "metadata": {},
   "outputs": [
    {
     "name": "stdout",
     "output_type": "stream",
     "text": [
      "Estado: amazonas\n",
      "Cidade: manaus\n",
      ">> Site: http://www.tempoagora.com.br/previsao-do-tempo/amazonas/Manaus \n",
      "\n",
      "\n",
      "======[ Previsao do Tempo: ]======\n",
      "     Temperatura      0°C   \n",
      "     Sensação                 °C   \n",
      "     Velocidade      N/D km/h   \n",
      "     Pressão       mb   \n",
      "     Umidade      %   \n",
      "     Visibilidade         \n",
      "\n",
      "======[ Proximas horas: ]======\n",
      "   20:00       0 °  \n",
      "   21:00       0 °  \n",
      "   22:00       0 °  \n",
      "   23:00       0 °  \n",
      "   00:00       0 °  \n",
      "   01:00       0 °  \n",
      "   02:00       0 °  \n",
      "   03:00       0 °  \n",
      "   04:00       0 °  \n",
      "   05:00       0 °  \n",
      "   06:00       0 °  \n",
      "   07:00       0 °  \n",
      "   08:00       0 °  \n",
      "   09:00       0 °  \n",
      "   10:00       0 °  \n"
     ]
    }
   ],
   "source": [
    "from bs4 import BeautifulSoup\n",
    "import requests\n",
    "\n",
    "estado=input('Estado: ').lower()\n",
    "cidade=input('Cidade: ')\n",
    "cidade=cidade[0].upper()+cidade[1::].lower()\n",
    "\n",
    "site = 'http://www.tempoagora.com.br/previsao-do-tempo/'+estado+'/'+cidade\n",
    "print ('>> Site:',site,'\\n')\n",
    "r = requests.get(site)\n",
    "soup = BeautifulSoup(r.text, \"html5lib\")\n",
    "\n",
    "print ('\\n======[ Previsao do Tempo: ]======')\n",
    "for ul in soup.find_all('ul', {'class': 'dsp-table day-info'}):\n",
    "    for li in ul.find_all('li'):\n",
    "        print (li.text.replace(\"\\t\", \" \").replace(\"\\r\", \"\").replace(\"\\n\", \"\"))\n",
    "\n",
    "print ('\\n======[ Proximas horas: ]======')\n",
    "for ul in soup.find_all('ul', {'class': 'dsp-table next-hours-list'}):\n",
    "    for li in ul.find_all('li'):\n",
    "        print (li.text.replace(\"\\t\", \" \").replace(\"\\r\", \"\").replace(\"\\n\", \"\"))      "
   ]
  },
  {
   "cell_type": "code",
   "execution_count": null,
   "metadata": {},
   "outputs": [],
   "source": []
  }
 ],
 "metadata": {
  "kernelspec": {
   "display_name": "Python 3",
   "language": "python",
   "name": "python3"
  },
  "language_info": {
   "codemirror_mode": {
    "name": "ipython",
    "version": 3
   },
   "file_extension": ".py",
   "mimetype": "text/x-python",
   "name": "python",
   "nbconvert_exporter": "python",
   "pygments_lexer": "ipython3",
   "version": "3.6.4"
  }
 },
 "nbformat": 4,
 "nbformat_minor": 2
}
